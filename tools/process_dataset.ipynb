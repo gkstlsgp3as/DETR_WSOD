{
 "cells": [
  {
   "cell_type": "code",
   "execution_count": 1,
   "metadata": {},
   "outputs": [
    {
     "name": "stderr",
     "output_type": "stream",
     "text": [
      "/home/shhan/.local/lib/python3.8/site-packages/requests/__init__.py:109: RequestsDependencyWarning: urllib3 (2.0.3) or chardet (5.1.0)/charset_normalizer (2.1.1) doesn't match a supported version!\n",
      "  warnings.warn(\n"
     ]
    }
   ],
   "source": [
    "import argparse\n",
    "import datetime\n",
    "import json\n",
    "import random\n",
    "import time\n",
    "from pathlib import Path\n",
    "\n",
    "import numpy as np\n",
    "import torch\n",
    "from torch.utils.data import DataLoader, DistributedSampler\n",
    "\n",
    "import sys\n",
    "sys.path.append('..')\n",
    "import datasets\n",
    "import util.misc as utils\n",
    "from datasets import build_dataset, get_coco_api_from_dataset\n",
    "from engine import evaluate, train_one_epoch\n",
    "from models import build_model"
   ]
  },
  {
   "cell_type": "code",
   "execution_count": 2,
   "metadata": {},
   "outputs": [
    {
     "name": "stdout",
     "output_type": "stream",
     "text": [
      "Not using distributed mode\n"
     ]
    },
    {
     "data": {
      "text/plain": [
       "Namespace(arch='vit_small', aux_loss=True, backbone='resnet50', bbox_loss_coef=5, cache=True, checkpoint_key='teacher', coco_panoptic_path=None, coco_path='../data/coco/', dataset_file='coco', dec_layers=6, dice_loss_coef=1, dilation=False, dim_feedforward=2048, distributed=False, dropout=0.1, enc_layers=6, eos_coef=0.1, frozen_weights=None, giou_loss_coef=2, hidden_dim=256, mask_loss_coef=1, masks=False, nheads=8, num_queries=100, output_dir='', patch_size=8, pkl='../data/coco_train2017_proposals.pkl', position_embedding='sine', pre_norm=False, remove_difficult=False, set_cost_bbox=5, set_cost_class=1, set_cost_giou=2, wsod=False)"
      ]
     },
     "execution_count": 2,
     "metadata": {},
     "output_type": "execute_result"
    }
   ],
   "source": [
    "parser = argparse.ArgumentParser('Set transformer detector', add_help=False)\n",
    "\n",
    "# Model parameters\n",
    "parser.add_argument('--frozen_weights', type=str, default=None,\n",
    "                        help=\"Path to the pretrained model. If set, only the mask head will be trained\")\n",
    "# * Backbone\n",
    "parser.add_argument('--backbone', default='resnet50', type=str,\n",
    "                        help=\"Name of the convolutional backbone to use\")\n",
    "parser.add_argument('--dilation', action='store_true',\n",
    "                        help=\"If true, we replace stride with dilation in the last convolutional block (DC5)\")\n",
    "parser.add_argument('--position_embedding', default='sine', type=str, choices=('sine', 'learned'),\n",
    "                        help=\"Type of positional embedding to use on top of the image features\")\n",
    "# * Transformer\n",
    "parser.add_argument('--enc_layers', default=6, type=int,\n",
    "                        help=\"Number of encoding layers in the transformer\")\n",
    "parser.add_argument('--dec_layers', default=6, type=int,\n",
    "                        help=\"Number of decoding layers in the transformer\")\n",
    "parser.add_argument('--dim_feedforward', default=2048, type=int,\n",
    "                        help=\"Intermediate size of the feedforward layers in the transformer blocks\")\n",
    "parser.add_argument('--hidden_dim', default=256, type=int,\n",
    "                        help=\"Size of the embeddings (dimension of the transformer)\")\n",
    "parser.add_argument('--dropout', default=0.1, type=float,\n",
    "                        help=\"Dropout applied in the transformer\")\n",
    "parser.add_argument('--nheads', default=8, type=int,\n",
    "                        help=\"Number of attention heads inside the transformer's attentions\")\n",
    "parser.add_argument('--num_queries', default=100, type=int,\n",
    "                        help=\"Number of query slots\")\n",
    "parser.add_argument('--pre_norm', action='store_true')\n",
    "\n",
    "# * Segmentation\n",
    "parser.add_argument('--masks', action='store_true',\n",
    "                        help=\"Train segmentation head if the flag is provided\")\n",
    "\n",
    "# Loss\n",
    "parser.add_argument('--no_aux_loss', dest='aux_loss', action='store_false',\n",
    "                        help=\"Disables auxiliary decoding losses (loss at each layer)\")\n",
    "# * Matcher\n",
    "parser.add_argument('--set_cost_class', default=1, type=float,\n",
    "                        help=\"Class coefficient in the matching cost\")\n",
    "parser.add_argument('--set_cost_bbox', default=5, type=float,\n",
    "                        help=\"L1 box coefficient in the matching cost\")\n",
    "parser.add_argument('--set_cost_giou', default=2, type=float,\n",
    "                        help=\"giou box coefficient in the matching cost\")\n",
    "# * Loss coefficients\n",
    "parser.add_argument('--mask_loss_coef', default=1, type=float)\n",
    "parser.add_argument('--dice_loss_coef', default=1, type=float)\n",
    "parser.add_argument('--bbox_loss_coef', default=5, type=float)\n",
    "parser.add_argument('--giou_loss_coef', default=2, type=float)\n",
    "parser.add_argument('--eos_coef', default=0.1, type=float,\n",
    "                        help=\"Relative classification weight of the no-object class\")\n",
    "\n",
    "# dataset parameters\n",
    "parser.add_argument('--dataset_file', default='coco') # dataset\n",
    "parser.add_argument('--coco_path', type=str)\n",
    "parser.add_argument('--coco_panoptic_path', type=str)\n",
    "parser.add_argument('--remove_difficult', action='store_true')\n",
    "\n",
    "parser.add_argument('--output_dir', default='',\n",
    "                        help='path where to save, empty for no saving')\n",
    "\n",
    "# wsod\n",
    "parser.add_argument('--wsod', action='store_true', help='enable weakly-supervised object detection (WSOD))')\n",
    "parser.add_argument('--arch', default='vit_small', type=str,\n",
    "                        choices=['vit_tiny', 'vit_small', 'vit_base'], help='Architecture (support only ViT atm).')\n",
    "parser.add_argument('--patch_size', default=8, type=int, help='Patch resolution of the model.')\n",
    "parser.add_argument(\"--checkpoint_key\", default=\"teacher\", type=str,\n",
    "                        help='Key to use in the checkpoint (example: \"teacher\")')\n",
    "parser.add_argument(\"--pkl\", default=\"../data/coco_train2017_proposals.pkl\", type=str, help='directory for proposal')\n",
    "parser.add_argument(\"--cache\", action='store_true', help=\"cacheing the labels\")\n",
    "\n",
    "args = parser.parse_args(args=[])\n",
    "utils.init_distributed_mode(args)\n",
    "args.dataset_file = \"coco\"\n",
    "args.wsod = False #####\n",
    "args.coco_path = \"../data/coco/\"\n",
    "args.cache = True\n",
    "args"
   ]
  },
  {
   "cell_type": "code",
   "execution_count": 2,
   "metadata": {},
   "outputs": [
    {
     "name": "stdout",
     "output_type": "stream",
     "text": [
      "118281\n",
      "4991\n"
     ]
    }
   ],
   "source": [
    "import pickle\n",
    "# load\n",
    "with open('../data/coco_train2017_proposals.pkl', 'rb') as f:\n",
    "    train_data = pickle.load(f)\n",
    "with open('../data/coco_val2017_proposals.pkl', 'rb') as f:\n",
    "    val_data = pickle.load(f)\n",
    "\n",
    "print(len(train_data))\n",
    "print(len(val_data))"
   ]
  },
  {
   "cell_type": "code",
   "execution_count": 3,
   "metadata": {},
   "outputs": [
    {
     "data": {
      "text/plain": [
       "array([[12., 57., 32., 22.],\n",
       "       [20.,  0., 20., 44.],\n",
       "       [20., 73.,  2.,  2.],\n",
       "       [20., 77.,  2.,  2.],\n",
       "       [22., 75.,  3.,  0.],\n",
       "       [23., 20.,  0.,  2.],\n",
       "       [24., 21.,  2.,  6.],\n",
       "       [24., 69.,  2.,  0.],\n",
       "       [25., 17.,  1.,  2.],\n",
       "       [29.,  2.,  5.,  7.],\n",
       "       [ 0., 36., 15., 43.],\n",
       "       [30., 47., 14.,  7.],\n",
       "       [33., 56.,  1.,  2.],\n",
       "       [19., 34.,  6.,  9.],\n",
       "       [20., 10.,  0.,  5.],\n",
       "       [21., 50.,  1.,  3.],\n",
       "       [22., 22.,  6.,  1.],\n",
       "       [23., 75.,  2.,  1.],\n",
       "       [24., 69.,  2.,  2.],\n",
       "       [25., 63.,  1.,  2.],\n",
       "       [29.,  0., 15., 49.],\n",
       "       [31.,  2.,  3.,  7.],\n",
       "       [32., 61.,  0.,  2.],\n",
       "       [34., 53., 10., 20.],\n",
       "       [12., 57., 32., 22.],\n",
       "       [20.,  0., 13., 44.],\n",
       "       [20., 79.,  2.,  0.],\n",
       "       [25., 36.,  1.,  2.],\n",
       "       [31.,  0.,  9.,  9.],\n",
       "       [36., 49.,  3.,  1.],\n",
       "       [ 2., 43., 38., 18.],\n",
       "       [16.,  0.,  4., 25.],\n",
       "       [19., 27.,  1.,  2.],\n",
       "       [20., 77.,  2.,  1.],\n",
       "       [22., 51.,  0.,  2.],\n",
       "       [22., 59.,  5.,  6.],\n",
       "       [32., 47.,  3.,  1.],\n",
       "       [ 3., 51., 12., 17.],\n",
       "       [19., 50.,  5.,  7.],\n",
       "       [20., 73.,  0.,  2.],\n",
       "       [22., 47.,  4.,  2.],\n",
       "       [23., 18.,  0.,  3.],\n",
       "       [23., 24.,  2.,  2.],\n",
       "       [25., 19.,  1.,  2.],\n",
       "       [43., 28.,  1.,  2.],\n",
       "       [13., 75.,  0.,  2.],\n",
       "       [24., 59., 20., 20.],\n",
       "       [27., 17.,  5., 18.],\n",
       "       [29.,  0.,  8.,  7.],\n",
       "       [36.,  0.,  4.,  2.],\n",
       "       [21., 51.,  0.,  2.],\n",
       "       [23., 39.,  2.,  1.],\n",
       "       [23., 75.,  2.,  0.],\n",
       "       [30.,  0., 14., 49.],\n",
       "       [31.,  2.,  2.,  3.],\n",
       "       [35., 53.,  9., 19.],\n",
       "       [ 0., 36., 15., 43.],\n",
       "       [33., 51.,  8.,  3.],\n",
       "       [40., 50.,  3.,  0.],\n",
       "       [ 2., 10., 14., 34.],\n",
       "       [ 4., 21.,  2.,  4.],\n",
       "       [ 7., 53.,  1.,  2.],\n",
       "       [ 8., 56.,  6.,  8.],\n",
       "       [17.,  0.,  5., 43.],\n",
       "       [18., 47.,  2.,  0.],\n",
       "       [20., 73.,  0.,  2.],\n",
       "       [20., 77.,  2.,  1.],\n",
       "       [22., 59.,  2.,  1.],\n",
       "       [24., 49.,  4.,  7.],\n",
       "       [24., 58.,  3.,  5.],\n",
       "       [29.,  3.,  3.,  2.],\n",
       "       [29., 45.,  2.,  2.],\n",
       "       [30., 55.,  6.,  1.],\n",
       "       [33., 60.,  2.,  1.],\n",
       "       [35., 53.,  2.,  1.],\n",
       "       [37., 59.,  2.,  1.],\n",
       "       [40., 46.,  1.,  2.],\n",
       "       [42., 45.,  0.,  2.],\n",
       "       [13., 59., 10., 20.],\n",
       "       [20.,  8.,  9., 24.],\n",
       "       [27.,  1.,  2.,  2.],\n",
       "       [12., 65.,  1.,  3.],\n",
       "       [14., 74.,  0.,  2.],\n",
       "       [20.,  0., 13., 23.],\n",
       "       [21., 28.,  9., 16.],\n",
       "       [21., 57.,  5.,  3.],\n",
       "       [22., 64.,  4.,  4.],\n",
       "       [23., 25.,  1.,  2.],\n",
       "       [27.,  0.,  2.,  1.],\n",
       "       [27., 14.,  3.,  4.],\n",
       "       [27., 20.,  0.,  2.],\n",
       "       [31., 24.,  2.,  3.],\n",
       "       [ 5., 44., 15., 12.],\n",
       "       [22., 44.,  5.,  2.],\n",
       "       [25., 56.,  8.,  4.],\n",
       "       [ 6.,  8.,  1.,  3.],\n",
       "       [ 7.,  0., 11., 43.],\n",
       "       [ 8., 61.,  5.,  6.],\n",
       "       [25., 19.,  1.,  2.],\n",
       "       [ 0., 24.,  5., 12.],\n",
       "       [ 2., 38.,  6.,  8.],\n",
       "       [ 2., 45.,  6., 20.],\n",
       "       [ 3., 11.,  3., 12.],\n",
       "       [ 5., 79.,  2.,  0.],\n",
       "       [16.,  4.,  1.,  2.],\n",
       "       [16., 56.,  1.,  2.],\n",
       "       [17., 49.,  3.,  6.],\n",
       "       [18., 44.,  2.,  2.],\n",
       "       [21., 47., 14., 10.],\n",
       "       [22., 60.,  3.,  5.],\n",
       "       [24., 42.,  1.,  2.],\n",
       "       [31., 56.,  5.,  3.],\n",
       "       [32., 43.,  1.,  2.],\n",
       "       [40., 50.,  4.,  3.],\n",
       "       [41., 29.,  3.,  3.],\n",
       "       [42., 23.,  1.,  3.],\n",
       "       [42., 33.,  2.,  1.]])"
      ]
     },
     "execution_count": 3,
     "metadata": {},
     "output_type": "execute_result"
    }
   ],
   "source": [
    "train_data[391895]"
   ]
  },
  {
   "cell_type": "code",
   "execution_count": 5,
   "metadata": {},
   "outputs": [
    {
     "name": "stdout",
     "output_type": "stream",
     "text": [
      "9\n",
      "581929\n"
     ]
    }
   ],
   "source": [
    "sorted_train_data = sorted(train_data.items())\n",
    "print(sorted_train_data[0][0])\n",
    "print(sorted_train_data[-1][0])"
   ]
  },
  {
   "cell_type": "code",
   "execution_count": 6,
   "metadata": {},
   "outputs": [
    {
     "data": {
      "text/plain": [
       "[(9,\n",
       "  array([[34., 56., 25., 23.],\n",
       "         [ 0., 44.,  2.,  2.],\n",
       "         [ 0., 44., 19., 27.],\n",
       "         [ 8., 77.,  6.,  1.],\n",
       "         [17., 75.,  2.,  0.],\n",
       "         [20., 53.,  4.,  2.],\n",
       "         [20., 63., 32., 16.],\n",
       "         [29.,  8., 30., 62.],\n",
       "         [45.,  0.,  4.,  2.],\n",
       "         [53.,  0.,  6.,  3.],\n",
       "         [55., 76.,  1.,  2.],\n",
       "         [ 0., 68.,  1.,  2.],\n",
       "         [ 0., 75.,  3.,  4.],\n",
       "         [ 4., 32.,  1.,  2.],\n",
       "         [ 7., 76.,  8.,  3.],\n",
       "         [ 9., 21.,  2.,  1.],\n",
       "         [ 9., 44.,  2.,  0.],\n",
       "         [10., 13., 29., 32.],\n",
       "         [13., 47.,  4.,  1.],\n",
       "         [14., 55.,  6., 13.],\n",
       "         [16., 74.,  9.,  5.],\n",
       "         [18., 45.,  4.,  4.],\n",
       "         [18., 64.,  4.,  6.],\n",
       "         [21., 21.,  3.,  5.],\n",
       "         [24., 48.,  0.,  2.],\n",
       "         [26., 65.,  1.,  3.],\n",
       "         [28., 62.,  3.,  2.],\n",
       "         [30., 64.,  2.,  4.],\n",
       "         [31., 30.,  1.,  3.],\n",
       "         [34.,  0.,  7.,  7.],\n",
       "         [34., 64.,  5.,  1.],\n",
       "         [37.,  8.,  1.,  3.],\n",
       "         [38., 11.,  2.,  2.],\n",
       "         [40., 77.,  1.,  2.],\n",
       "         [42.,  0.,  2.,  1.],\n",
       "         [43., 29.,  0.,  2.],\n",
       "         [43., 35.,  2.,  2.],\n",
       "         [44., 39.,  8.,  4.],\n",
       "         [45., 69.,  2.,  0.],\n",
       "         [46., 60., 13., 19.],\n",
       "         [47., 16.,  1.,  2.],\n",
       "         [47., 52., 12.,  6.],\n",
       "         [52.,  0.,  7.,  3.],\n",
       "         [53., 39.,  6.,  3.],\n",
       "         [56., 12.,  3.,  2.],\n",
       "         [56., 15.,  3.,  6.],\n",
       "         [ 0., 54., 27., 25.],\n",
       "         [ 2.,  0., 57., 61.],\n",
       "         [ 8.,  3.,  8., 18.],\n",
       "         [15., 77.,  6.,  2.],\n",
       "         [34., 57., 25., 18.],\n",
       "         [37., 12.,  2.,  1.],\n",
       "         [ 0., 47., 17., 23.],\n",
       "         [ 3., 32.,  1.,  2.],\n",
       "         [ 5.,  0., 32., 32.],\n",
       "         [11., 42., 10.,  5.],\n",
       "         [20., 24.,  5.,  5.],\n",
       "         [20., 53.,  2.,  0.],\n",
       "         [22., 41.,  0.,  3.],\n",
       "         [28., 79.,  2.,  0.],\n",
       "         [37., 69.,  2.,  2.],\n",
       "         [40., 19.,  2.,  3.],\n",
       "         [40., 60.,  2.,  1.],\n",
       "         [41.,  0.,  1.,  2.],\n",
       "         [51.,  2.,  2.,  1.],\n",
       "         [53.,  8.,  6.,  4.],\n",
       "         [57., 11.,  2.,  1.],\n",
       "         [29., 31., 30., 39.],\n",
       "         [ 4., 24.,  0.,  2.],\n",
       "         [ 7., 30.,  9., 10.],\n",
       "         [15.,  3.,  1.,  3.],\n",
       "         [25., 65., 24., 14.],\n",
       "         [32.,  2.,  1.,  2.],\n",
       "         [42., 12., 17., 28.],\n",
       "         [53., 12.,  2.,  2.],\n",
       "         [ 0., 55., 11., 24.],\n",
       "         [ 3., 43.,  2.,  2.],\n",
       "         [ 8., 14.,  6.,  7.],\n",
       "         [13., 10.,  0.,  2.],\n",
       "         [15., 48.,  5.,  3.],\n",
       "         [15., 77.,  6.,  2.],\n",
       "         [17., 54., 10., 20.],\n",
       "         [21., 19., 21., 42.],\n",
       "         [34., 66., 18.,  9.],\n",
       "         [40.,  0., 19., 19.],\n",
       "         [52., 67.,  1.,  2.],\n",
       "         [44., 15., 15., 25.],\n",
       "         [ 0., 41.,  8.,  8.],\n",
       "         [ 1., 33.,  6.,  6.],\n",
       "         [ 2., 32.,  0.,  2.],\n",
       "         [ 4., 23.,  2.,  2.],\n",
       "         [ 4., 28.,  0.,  2.],\n",
       "         [ 7., 19.,  0.,  3.],\n",
       "         [ 7., 74., 18.,  5.],\n",
       "         [12., 27.,  3.,  2.],\n",
       "         [13., 51.,  2.,  2.],\n",
       "         [14., 65.,  1.,  3.],\n",
       "         [16., 18.,  7.,  6.],\n",
       "         [16., 26., 13., 19.],\n",
       "         [17., 55.,  0.,  2.],\n",
       "         [18., 47.,  3.,  2.],\n",
       "         [19., 26.,  0.,  2.],\n",
       "         [19., 56.,  1.,  2.],\n",
       "         [21., 53.,  2.,  0.],\n",
       "         [21., 64.,  1.,  2.],\n",
       "         [24., 48.,  0.,  2.],\n",
       "         [31., 62.,  1.,  2.],\n",
       "         [32., 45.,  2.,  3.],\n",
       "         [33., 14.,  2.,  3.],\n",
       "         [34.,  0.,  8.,  4.],\n",
       "         [34., 64.,  6.,  1.],\n",
       "         [42., 49.,  2.,  1.],\n",
       "         [44., 39.,  3.,  4.],\n",
       "         [45., 69.,  2.,  0.],\n",
       "         [47., 50.,  6.,  3.],\n",
       "         [48., 70.,  2.,  0.],\n",
       "         [49., 40.,  5.,  2.],\n",
       "         [54., 54.,  1.,  2.],\n",
       "         [56., 53.,  3.,  6.],\n",
       "         [59., 17.,  0.,  2.],\n",
       "         [29., 31., 30., 39.],\n",
       "         [ 0., 48., 16., 21.],\n",
       "         [ 5., 26.,  1.,  4.],\n",
       "         [14.,  4.,  6., 11.],\n",
       "         [17.,  1.,  6.,  6.],\n",
       "         [19.,  0.,  3.,  0.],\n",
       "         [20., 15.,  7.,  8.],\n",
       "         [26.,  0.,  7., 13.],\n",
       "         [40., 20.,  2.,  2.],\n",
       "         [ 0., 74.,  4.,  5.],\n",
       "         [ 3., 24.,  1.,  3.],\n",
       "         [ 6., 30., 14., 10.],\n",
       "         [10., 41.,  3.,  2.],\n",
       "         [16.,  0.,  2.,  3.],\n",
       "         [17., 40.,  3.,  4.],\n",
       "         [23., 64., 26., 15.],\n",
       "         [28., 13.,  5.,  6.],\n",
       "         [31.,  0.,  2.,  5.],\n",
       "         [31.,  8.,  4.,  4.],\n",
       "         [37.,  4.,  1.,  2.],\n",
       "         [41., 62.,  1.,  2.],\n",
       "         [42., 20.,  2.,  1.],\n",
       "         [43., 23.,  2.,  2.],\n",
       "         [44., 28.,  1.,  4.],\n",
       "         [45., 21.,  3.,  2.],\n",
       "         [47., 18.,  2.,  2.],\n",
       "         [48., 39.,  1.,  3.],\n",
       "         [49., 14.,  1.,  2.],\n",
       "         [50., 21.,  4.,  2.],\n",
       "         [51., 11.,  8., 11.],\n",
       "         [51., 17.,  2.,  1.],\n",
       "         [55., 37.,  2.,  4.],\n",
       "         [56., 22.,  1.,  3.],\n",
       "         [ 2., 31.,  3.,  5.],\n",
       "         [ 6., 18., 12., 14.],\n",
       "         [10., 37., 10.,  4.],\n",
       "         [11., 44., 10.,  3.],\n",
       "         [15., 15.,  1.,  2.],\n",
       "         [18., 55.,  0.,  3.],\n",
       "         [19., 24.,  7.,  5.],\n",
       "         [23., 32.,  3.,  4.],\n",
       "         [27., 19.,  5.,  7.],\n",
       "         [32., 11.,  2.,  3.],\n",
       "         [34.,  3.,  1.,  4.],\n",
       "         [38., 58.,  1.,  2.],\n",
       "         [39., 61.,  2.,  2.],\n",
       "         [41., 59.,  5.,  6.],\n",
       "         [46., 76.,  2.,  0.],\n",
       "         [50., 64.,  1.,  2.],\n",
       "         [53., 52.,  1.,  2.],\n",
       "         [54.,  9.,  5.,  3.],\n",
       "         [55.,  0.,  2.,  0.],\n",
       "         [55., 54.,  2.,  1.],\n",
       "         [ 1., 49.,  3.,  1.],\n",
       "         [ 2., 53.,  2.,  1.],\n",
       "         [ 8., 52.,  1.,  6.],\n",
       "         [10., 50.,  6.,  7.],\n",
       "         [12., 65.,  1.,  2.],\n",
       "         [16., 13.,  4.,  5.],\n",
       "         [17.,  4., 13., 15.],\n",
       "         [20.,  0.,  7.,  7.],\n",
       "         [20., 18.,  1.,  2.],\n",
       "         [23., 21.,  1.,  2.],\n",
       "         [28.,  5.,  3.,  1.],\n",
       "         [36.,  4.,  1.,  3.],\n",
       "         [36.,  9.,  0.,  3.],\n",
       "         [ 0., 62.,  1.,  2.],\n",
       "         [ 0., 66.,  2.,  3.],\n",
       "         [ 2., 38., 17., 15.],\n",
       "         [ 8., 62., 13., 15.],\n",
       "         [ 9.,  0.,  6., 17.],\n",
       "         [21.,  2., 23., 49.],\n",
       "         [21., 61.,  2.,  2.],\n",
       "         [50., 72.,  2.,  1.],\n",
       "         [50., 56.,  9., 23.],\n",
       "         [57.,  2.,  1.,  2.]])),\n",
       " (25,\n",
       "  array([[ 0., 35.,  1.,  2.],\n",
       "         [ 2., 36., 14.,  7.],\n",
       "         [ 3., 48., 12., 13.],\n",
       "         ...,\n",
       "         [ 0., 58.,  1.,  4.],\n",
       "         [ 5., 54.,  2.,  2.],\n",
       "         [40., 56.,  3.,  2.]]))]"
      ]
     },
     "execution_count": 6,
     "metadata": {},
     "output_type": "execute_result"
    }
   ],
   "source": [
    "sorted_train_data[:2] # tuples in a list"
   ]
  },
  {
   "cell_type": "code",
   "execution_count": null,
   "metadata": {},
   "outputs": [],
   "source": [
    "import logging\n",
    "proposals = sorted(train_data.items())\n",
    "\n",
    "ref_proposals = []\n",
    "for i, boxes in enumerate(proposals['boxes']):\n",
    "\tif i % 2500 == 0:\n",
    "\t\tlogger.info(' {:d}/{:d}'.format(i + 1, len(proposals['boxes'])))\n",
    "\t\n",
    "\tannotation = self.annotations[i]\n",
    "\tassert annotation['img_key'] == proposals['indexes'][i]\n",
    "\t# Remove duplicate boxes and very small boxes and then take top k\n",
    "\tboxes = box_utils.clip_boxes_to_image(boxes, annotation['height'], annotation['width'])\n",
    "\tkeep = box_utils.unique_boxes(boxes)\n",
    "\tboxes = boxes[keep, :]\n",
    "\tkeep = box_utils.filter_small_boxes(boxes, cfg.FAST_RCNN.MIN_PROPOSAL_SIZE)\n",
    "\tboxes = boxes[keep, :]\n",
    "\tif cfg.FAST_RCNN.TOP_K > 0:\n",
    "\t\tboxes = boxes[:cfg.FAST_RCNN.TOP_K, :]\n",
    "\tref_proposals.append(boxes.astype(np.float))"
   ]
  },
  {
   "cell_type": "code",
   "execution_count": 7,
   "metadata": {},
   "outputs": [
    {
     "name": "stdout",
     "output_type": "stream",
     "text": [
      "../data/coco/images/train2017\n",
      "loading annotations into memory...\n",
      "Done (t=16.95s)\n",
      "creating index...\n",
      "index created!\n",
      "hello\n"
     ]
    }
   ],
   "source": [
    "dataset_train = build_dataset(image_set='train', args=args) # wsod setting\n",
    "dataset_val = build_dataset(image_set='val', args=args) # detection setting for evaluation"
   ]
  },
  {
   "cell_type": "code",
   "execution_count": 5,
   "metadata": {},
   "outputs": [],
   "source": [
    "dataset_train"
   ]
  },
  {
   "cell_type": "code",
   "execution_count": 4,
   "metadata": {},
   "outputs": [],
   "source": [
    "ann_file = '/home/shhan/oicr/data/coco/annotations/instances_val2017.json' # annotation path\n",
    "img_folder = \"/home/shhan/oicr/data/coco/images/val2017\" # data path"
   ]
  },
  {
   "cell_type": "code",
   "execution_count": 5,
   "metadata": {},
   "outputs": [
    {
     "name": "stdout",
     "output_type": "stream",
     "text": [
      "loading annotations into memory...\n",
      "Done (t=0.55s)\n",
      "creating index...\n",
      "index created!\n",
      "hello\n"
     ]
    }
   ],
   "source": [
    "from datasets.coco import CocoDetection, make_coco_transforms\n",
    "\n",
    "image_set = 'train'\n",
    "dataset = CocoDetection(img_folder, ann_file, transforms=make_coco_transforms(image_set), return_masks=False)"
   ]
  },
  {
   "cell_type": "code",
   "execution_count": 6,
   "metadata": {},
   "outputs": [
    {
     "data": {
      "text/plain": [
       "(tensor([[[ 0.6906,  0.7248,  0.7591,  ...,  0.8447,  0.8447,  0.8276],\n",
       "          [ 0.7077,  0.7248,  0.7419,  ...,  0.8276,  0.8276,  0.8276],\n",
       "          [ 0.7077,  0.7248,  0.7419,  ...,  0.8276,  0.8276,  0.8276],\n",
       "          ...,\n",
       "          [ 1.1015,  1.1015,  1.1015,  ...,  0.3481,  0.3652,  0.3994],\n",
       "          [ 1.1015,  1.1187,  1.1358,  ...,  0.4166,  0.4337,  0.4508],\n",
       "          [ 1.1187,  1.1358,  1.1529,  ...,  0.4679,  0.4679,  0.4851]],\n",
       " \n",
       "         [[ 0.2402,  0.2752,  0.3102,  ...,  0.7129,  0.7129,  0.6954],\n",
       "          [ 0.2577,  0.2752,  0.2927,  ...,  0.6954,  0.6954,  0.6954],\n",
       "          [ 0.2577,  0.2752,  0.2927,  ...,  0.6954,  0.6954,  0.6954],\n",
       "          ...,\n",
       "          [ 0.7829,  0.7654,  0.7479,  ..., -0.5476, -0.5126, -0.4601],\n",
       "          [ 0.8880,  0.8704,  0.8704,  ..., -0.4776, -0.4601, -0.4076],\n",
       "          [ 0.9580,  0.9405,  0.9405,  ..., -0.4426, -0.4251, -0.3901]],\n",
       " \n",
       "         [[-0.6018, -0.5670, -0.5321,  ..., -0.0964, -0.0964, -0.1138],\n",
       "          [-0.5844, -0.5670, -0.5495,  ..., -0.1138, -0.1138, -0.1138],\n",
       "          [-0.5844, -0.5670, -0.5495,  ..., -0.1138, -0.1138, -0.1138],\n",
       "          ...,\n",
       "          [ 0.9494,  0.9319,  0.9319,  ..., -0.8284, -0.7761, -0.7413],\n",
       "          [ 1.0539,  1.0539,  1.0539,  ..., -0.7587, -0.7238, -0.6890],\n",
       "          [ 1.1237,  1.1237,  1.1237,  ..., -0.7064, -0.6890, -0.6541]]]),\n",
       " {'boxes': tensor([[0.9416, 0.4340, 0.0883, 0.1882],\n",
       "          [0.4498, 0.6837, 0.2001, 0.2785],\n",
       "          [0.6834, 0.6777, 0.2209, 0.2667],\n",
       "          [0.3022, 0.6681, 0.1078, 0.2204],\n",
       "          [0.6598, 0.5634, 0.0771, 0.0314],\n",
       "          [0.2627, 0.5676, 0.1896, 0.3738],\n",
       "          [0.4319, 0.4687, 0.0540, 0.0968],\n",
       "          [0.0011, 0.5328, 0.0023, 0.0433],\n",
       "          [0.0353, 0.5727, 0.0706, 0.2934],\n",
       "          [0.2076, 0.3115, 0.0499, 0.0593],\n",
       "          [0.5589, 0.5500, 0.0406, 0.0611],\n",
       "          [0.3423, 0.5640, 0.0344, 0.0339],\n",
       "          [0.9451, 0.5059, 0.0508, 0.0478],\n",
       "          [0.6117, 0.5169, 0.0348, 0.0453],\n",
       "          [0.4604, 0.7006, 0.4486, 0.2409]]),\n",
       "  'labels': tensor([64, 62, 62, 62, 62,  1,  1, 78, 82, 85, 86, 62, 86, 86, 67]),\n",
       "  'image_id': tensor([139]),\n",
       "  'area': tensor([7.2728e+03, 2.4397e+04, 2.5797e+04, 1.0399e+04, 1.0596e+03, 3.1018e+04,\n",
       "          2.2894e+03, 4.2789e+01, 9.0638e+03, 1.2950e+03, 1.0863e+03, 5.1080e+02,\n",
       "          1.0621e+03, 6.8966e+02, 4.7307e+04]),\n",
       "  'iscrowd': tensor([0, 0, 0, 0, 0, 0, 0, 0, 0, 0, 0, 0, 0, 0, 0]),\n",
       "  'orig_size': tensor([426, 640]),\n",
       "  'size': tensor([760, 576]),\n",
       "  'img_labels': tensor([ 1, 62, 64, 67, 72, 78, 82, 84, 85, 86])})"
      ]
     },
     "execution_count": 6,
     "metadata": {},
     "output_type": "execute_result"
    }
   ],
   "source": [
    "dataset[0]"
   ]
  },
  {
   "cell_type": "code",
   "execution_count": null,
   "metadata": {},
   "outputs": [],
   "source": []
  },
  {
   "cell_type": "code",
   "execution_count": 68,
   "metadata": {},
   "outputs": [
    {
     "ename": "SyntaxError",
     "evalue": "invalid syntax (1945514742.py, line 1)",
     "output_type": "error",
     "traceback": [
      "\u001b[0;36m  File \u001b[0;32m\"/tmp/ipykernel_606500/1945514742.py\"\u001b[0;36m, line \u001b[0;32m1\u001b[0m\n\u001b[0;31m    dataset[0][1].append('img_labels': torch.unique(dataset[0][1]['labels']))\u001b[0m\n\u001b[0m                                     ^\u001b[0m\n\u001b[0;31mSyntaxError\u001b[0m\u001b[0;31m:\u001b[0m invalid syntax\n"
     ]
    }
   ],
   "source": [
    "dataset[0][1].append('img_labels': torch.unique(dataset[0][1]['labels']))\n",
    "print(torch.unique(dataset[0][1]['labels']))"
   ]
  },
  {
   "cell_type": "code",
   "execution_count": 70,
   "metadata": {},
   "outputs": [
    {
     "name": "stdout",
     "output_type": "stream",
     "text": [
      "{'boxes': tensor([[0.6104, 0.4161, 0.0386, 0.1631],\n",
      "        [0.8724, 0.5052, 0.2333, 0.2227],\n",
      "        [0.0658, 0.5835, 0.1271, 0.1848],\n",
      "        [0.3953, 0.6325, 0.0875, 0.2414],\n",
      "        [0.4975, 0.6273, 0.0966, 0.2312],\n",
      "        [0.3308, 0.6190, 0.0471, 0.1910],\n",
      "        [0.4872, 0.5283, 0.0337, 0.0272],\n",
      "        [0.3136, 0.5320, 0.0829, 0.3240],\n",
      "        [0.3875, 0.4462, 0.0236, 0.0839],\n",
      "        [0.1881, 0.5017, 0.0230, 0.0375],\n",
      "        [0.2137, 0.5364, 0.0317, 0.2542],\n",
      "        [0.0438, 0.7717, 0.0224, 0.1073],\n",
      "        [0.0318, 0.7781, 0.0201, 0.1090],\n",
      "        [0.2894, 0.3100, 0.0218, 0.0514],\n",
      "        [0.1134, 0.8316, 0.0573, 0.2105],\n",
      "        [0.4431, 0.5167, 0.0178, 0.0529],\n",
      "        [0.3483, 0.5288, 0.0150, 0.0294],\n",
      "        [0.6120, 0.4784, 0.0222, 0.0414],\n",
      "        [0.4662, 0.4879, 0.0152, 0.0393],\n",
      "        [0.4000, 0.6471, 0.1962, 0.2088]]), 'labels': tensor([64, 72, 72, 62, 62, 62, 62,  1,  1, 78, 82, 84, 84, 85, 86, 86, 62, 86,\n",
      "        86, 67]), 'image_id': tensor([139]), 'area': tensor([ 1451.4839, 36149.2070, 15920.5781,  6128.3120,  5005.0249,  3519.1418,\n",
      "          573.5665,  7950.8765,  1187.6597,   594.2303,  5704.2578,   924.1796,\n",
      "          880.4685,   615.9149,  5927.0923,   486.3282,   248.3354,   517.3745,\n",
      "          328.1543,  6448.0439]), 'iscrowd': tensor([0, 0, 0, 0, 0, 0, 0, 0, 0, 0, 0, 0, 0, 0, 0, 0, 0, 0, 0, 0]), 'orig_size': tensor([426, 640]), 'size': tensor([ 704, 1057])}\n"
     ]
    },
    {
     "ename": "KeyError",
     "evalue": "0",
     "output_type": "error",
     "traceback": [
      "\u001b[0;31m---------------------------------------------------------------------------\u001b[0m",
      "\u001b[0;31mKeyError\u001b[0m                                  Traceback (most recent call last)",
      "\u001b[0;32m/tmp/ipykernel_606500/3304107814.py\u001b[0m in \u001b[0;36m<cell line: 3>\u001b[0;34m()\u001b[0m\n\u001b[1;32m      1\u001b[0m \u001b[0md\u001b[0m \u001b[0;34m=\u001b[0m \u001b[0mdataset\u001b[0m\u001b[0;34m[\u001b[0m\u001b[0;36m0\u001b[0m\u001b[0;34m]\u001b[0m\u001b[0;34m[\u001b[0m\u001b[0;36m1\u001b[0m\u001b[0;34m]\u001b[0m\u001b[0;34m\u001b[0m\u001b[0;34m\u001b[0m\u001b[0m\n\u001b[1;32m      2\u001b[0m \u001b[0mprint\u001b[0m\u001b[0;34m(\u001b[0m\u001b[0md\u001b[0m\u001b[0;34m)\u001b[0m\u001b[0;34m\u001b[0m\u001b[0;34m\u001b[0m\u001b[0m\n\u001b[0;32m----> 3\u001b[0;31m \u001b[0md\u001b[0m\u001b[0;34m[\u001b[0m\u001b[0;34m'img_labels'\u001b[0m\u001b[0;34m]\u001b[0m \u001b[0;34m=\u001b[0m \u001b[0mtorch\u001b[0m\u001b[0;34m.\u001b[0m\u001b[0munique\u001b[0m\u001b[0;34m(\u001b[0m\u001b[0md\u001b[0m\u001b[0;34m[\u001b[0m\u001b[0;36m0\u001b[0m\u001b[0;34m]\u001b[0m\u001b[0;34m[\u001b[0m\u001b[0;36m1\u001b[0m\u001b[0;34m]\u001b[0m\u001b[0;34m[\u001b[0m\u001b[0;34m'labels'\u001b[0m\u001b[0;34m]\u001b[0m\u001b[0;34m)\u001b[0m\u001b[0;34m\u001b[0m\u001b[0;34m\u001b[0m\u001b[0m\n\u001b[0m\u001b[1;32m      4\u001b[0m \u001b[0md\u001b[0m\u001b[0;34m\u001b[0m\u001b[0;34m\u001b[0m\u001b[0m\n",
      "\u001b[0;31mKeyError\u001b[0m: 0"
     ]
    }
   ],
   "source": [
    "d = dataset[0][1]\n",
    "print(d)\n",
    "d['img_labels'] = torch.unique(d[0][1]['labels'])\n",
    "d"
   ]
  },
  {
   "cell_type": "code",
   "execution_count": 60,
   "metadata": {},
   "outputs": [],
   "source": [
    "selected_train_data = [d for d in dataset if d[1]['image_id'] in list(train_data.keys())]\n",
    "selected_val_data = [d for d in dataset if d[1]['image_id'] in list(val_data.keys())]"
   ]
  },
  {
   "cell_type": "code",
   "execution_count": 62,
   "metadata": {},
   "outputs": [
    {
     "data": {
      "text/plain": [
       "[]"
      ]
     },
     "execution_count": 62,
     "metadata": {},
     "output_type": "execute_result"
    }
   ],
   "source": [
    "selected_val_data"
   ]
  },
  {
   "cell_type": "code",
   "execution_count": 25,
   "metadata": {},
   "outputs": [
    {
     "ename": "AttributeError",
     "evalue": "'Namespace' object has no attribute 'batch_size'",
     "output_type": "error",
     "traceback": [
      "\u001b[0;31m---------------------------------------------------------------------------\u001b[0m",
      "\u001b[0;31mAttributeError\u001b[0m                            Traceback (most recent call last)",
      "\u001b[0;32m/tmp/ipykernel_606500/1008206056.py\u001b[0m in \u001b[0;36m<cell line: 8>\u001b[0;34m()\u001b[0m\n\u001b[1;32m      7\u001b[0m \u001b[0;34m\u001b[0m\u001b[0m\n\u001b[1;32m      8\u001b[0m batch_sampler_train = torch.utils.data.BatchSampler(\n\u001b[0;32m----> 9\u001b[0;31m         sampler_train, args.batch_size, drop_last=True)\n\u001b[0m\u001b[1;32m     10\u001b[0m \u001b[0;34m\u001b[0m\u001b[0m\n\u001b[1;32m     11\u001b[0m data_loader_train = DataLoader(dataset_train, batch_sampler=batch_sampler_train,\n",
      "\u001b[0;31mAttributeError\u001b[0m: 'Namespace' object has no attribute 'batch_size'"
     ]
    }
   ],
   "source": [
    "if args.distributed:\n",
    "        sampler_train = DistributedSampler(dataset_train)\n",
    "        sampler_val = DistributedSampler(dataset_val, shuffle=False)\n",
    "else:\n",
    "    sampler_train = torch.utils.data.RandomSampler(dataset_train)\n",
    "    sampler_val = torch.utils.data.SequentialSampler(dataset_val)\n",
    "\n",
    "batch_sampler_train = torch.utils.data.BatchSampler(\n",
    "        sampler_train, args.batch_size, drop_last=True)\n",
    "\n",
    "data_loader_train = DataLoader(dataset_train, batch_sampler=batch_sampler_train,\n",
    "                                   collate_fn=utils.collate_fn, num_workers=args.num_workers)\n",
    "data_loader_val = DataLoader(dataset_val, args.batch_size, sampler=sampler_val,\n",
    "                                 drop_last=False, collate_fn=utils.collate_fn, num_workers=args.num_workers)"
   ]
  },
  {
   "cell_type": "code",
   "execution_count": null,
   "metadata": {},
   "outputs": [],
   "source": [
    "data_loader"
   ]
  }
 ],
 "metadata": {
  "kernelspec": {
   "display_name": "oicr",
   "language": "python",
   "name": "python3"
  },
  "language_info": {
   "codemirror_mode": {
    "name": "ipython",
    "version": 3
   },
   "file_extension": ".py",
   "mimetype": "text/x-python",
   "name": "python",
   "nbconvert_exporter": "python",
   "pygments_lexer": "ipython3",
   "version": "3.8.16"
  },
  "orig_nbformat": 4
 },
 "nbformat": 4,
 "nbformat_minor": 2
}
